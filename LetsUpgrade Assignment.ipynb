{
 "cells": [
  {
   "cell_type": "markdown",
   "metadata": {},
   "source": [
    "# Write a Python program to print all Prime numbers in an Interval."
   ]
  },
  {
   "cell_type": "code",
   "execution_count": 1,
   "metadata": {},
   "outputs": [
    {
     "name": "stdout",
     "output_type": "stream",
     "text": [
      "2,3,5,7,11,13,17,19,23,29,31,37,41,43,47,"
     ]
    }
   ],
   "source": [
    "start=1\n",
    "end=51\n",
    "for i in range (start,end):\n",
    "    if i>1:\n",
    "        for j in range(2,i):\n",
    "            if(i%j==0):\n",
    "                break\n",
    "        else:\n",
    "            print(i,end=\",\")"
   ]
  },
  {
   "cell_type": "markdown",
   "metadata": {},
   "source": [
    "##  Write a Python Program for factorial of a number."
   ]
  },
  {
   "cell_type": "code",
   "execution_count": 2,
   "metadata": {},
   "outputs": [
    {
     "name": "stdout",
     "output_type": "stream",
     "text": [
      "Enter The NUmber =5\n",
      "The Factorial of  5 is 120\n"
     ]
    }
   ],
   "source": [
    "num=int(input(\"Enter The NUmber =\"))\n",
    "fact=1\n",
    "if num<0:\n",
    "    print(\"Sry, Factorial Not Exit \")\n",
    "elif num==0:\n",
    "    print(\"Factorial Is 1\")\n",
    "else:\n",
    "    for x in range(1,num+1):\n",
    "        fact=fact*x\n",
    "    print(\"The Factorial of \",num ,\"is\",fact)\n",
    "    \n",
    "   "
   ]
  },
  {
   "cell_type": "markdown",
   "metadata": {},
   "source": [
    "# Find the sum of n numbers by using the while loop"
   ]
  },
  {
   "cell_type": "code",
   "execution_count": 4,
   "metadata": {},
   "outputs": [
    {
     "name": "stdout",
     "output_type": "stream",
     "text": [
      "Enter The Any Number =10\n",
      "55\n"
     ]
    }
   ],
   "source": [
    "n=int(input(\"Enter The Any Number =\"))\n",
    "sum1=0\n",
    "if n<0:\n",
    "    print(\"Enter Any Positive Number = \")\n",
    "else:\n",
    "    while range(n+1):\n",
    "        sum1=sum1+n\n",
    "        n=n-1\n",
    "print(sum1)"
   ]
  },
  {
   "cell_type": "code",
   "execution_count": null,
   "metadata": {},
   "outputs": [],
   "source": []
  },
  {
   "cell_type": "code",
   "execution_count": null,
   "metadata": {},
   "outputs": [],
   "source": []
  }
 ],
 "metadata": {
  "kernelspec": {
   "display_name": "Python 3",
   "language": "python",
   "name": "python3"
  },
  "language_info": {
   "codemirror_mode": {
    "name": "ipython",
    "version": 3
   },
   "file_extension": ".py",
   "mimetype": "text/x-python",
   "name": "python",
   "nbconvert_exporter": "python",
   "pygments_lexer": "ipython3",
   "version": "3.7.4"
  }
 },
 "nbformat": 4,
 "nbformat_minor": 2
}
